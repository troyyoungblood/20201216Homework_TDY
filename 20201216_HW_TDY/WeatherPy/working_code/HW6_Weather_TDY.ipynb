{
 "cells": [
  {
   "cell_type": "code",
   "execution_count": 1,
   "metadata": {},
   "outputs": [],
   "source": [
    "# Observation 1\n",
    "# The City Latitude vs Maximum Temperature scatter plot is analyzing the various maximum temperatures against latitude.\n",
    "# The data presented indicates an interesting relationship for the northern and southern hemispheres.\n",
    "# To the left of zero (southern hemisphere), the temperatures a fairly closely distributed from 40 F to 80 F,\n",
    "# increasing as approaching the equator.\n",
    "# To the right of zero (northern hemisphere), the temperatures have a wide range, decreasing as approaching the pole.\n",
    "# These behaviors are most likely presented because of the current season,\n",
    "# late fall, northern hemisphere, and late spring, southern hemisphere. (tilt of the earth and less sunlight)\n",
    "\n",
    "# Observation 2\n",
    "# The City Latitude vs Humidity scatter plot is analyzing the various humidity percentage values against latitude.\n",
    "# The data presented indicates a wide distribution of data points, most likely related to current weather conditions\n",
    "# such as a front or recent rain.\n",
    "# To the left of zero (southern hemisphere), the humidity is fairly scattered between latitidue values\n",
    "# with the majority of the points above 60% humidity.\n",
    "# To the right of zero (northern hemisphere), the humidity is fairly scatteres between latitiude values,\n",
    "# with the majority of the points above 60% humidity.  \n",
    "\n",
    "#Observation 3\n",
    "# The City Latitude vs Cloudiness and City Latitude vs Wind Speed scatter plots\n",
    "# represent data that is a snapshot in time when the data was collected. \n",
    "# They are not very valuable datasets."
   ]
  },
  {
   "cell_type": "markdown",
   "metadata": {},
   "source": [
    "# WeatherPy\n",
    "----\n",
    "\n",
    "#### Note\n",
    "* Instructions have been included for each segment. You do not have to follow them exactly, but they are included to help you think through the steps."
   ]
  },
  {
   "cell_type": "code",
   "execution_count": 2,
   "metadata": {
    "scrolled": true
   },
   "outputs": [],
   "source": [
    "# Dependencies and Setup\n",
    "import matplotlib.pyplot as plt\n",
    "import pandas as pd\n",
    "import numpy as np\n",
    "import requests\n",
    "import time\n",
    "from scipy.stats import linregress\n",
    "import scipy.stats as st\n",
    "import country_converter as coco\n",
    "from datetime import datetime\n",
    "\n",
    "# Import API key\n",
    "from api_keys import weather_api_key\n",
    "\n",
    "# Incorporated citipy to determine city based on latitude and longitude\n",
    "from citipy import citipy\n",
    "\n",
    "# Output File (CSV)\n",
    "output_data_file = \"output_data/cities.csv\"\n",
    "\n",
    "# Range of latitudes and longitudes\n",
    "# api.openweathermap.org/data/2.5/box/city?bbox={bbox}&appid={API key}\n",
    "# bbox required Bounding box [lon-left,lat-bottom,lon-right,lat-top,zoom]\n",
    "lat_range = (-90, 90)\n",
    "lng_range = (-180, 180)"
   ]
  },
  {
   "cell_type": "markdown",
   "metadata": {},
   "source": [
    "## Generate Cities List"
   ]
  },
  {
   "cell_type": "code",
   "execution_count": 3,
   "metadata": {},
   "outputs": [
    {
     "data": {
      "text/plain": [
       "610"
      ]
     },
     "execution_count": 3,
     "metadata": {},
     "output_type": "execute_result"
    }
   ],
   "source": [
    "# List for holding lat_lngs and cities\n",
    "lat_lngs = []\n",
    "cities = []\n",
    "\n",
    "# Create a set of random lat and lng combinations\n",
    "lats = np.random.uniform(lat_range[0], lat_range[1], size=1500)\n",
    "lngs = np.random.uniform(lng_range[0], lng_range[1], size=1500)\n",
    "lat_lngs = zip(lats, lngs)\n",
    "\n",
    "# Identify nearest city for each lat, lng combination\n",
    "for lat_lng in lat_lngs:\n",
    "    city = citipy.nearest_city(lat_lng[0], lat_lng[1]).city_name\n",
    "    \n",
    "    # If the city is unique, then add it to a our cities list\n",
    "    if city not in cities:\n",
    "        cities.append(city)\n",
    " \n",
    "        \n",
    "# Print the city count to confirm sufficient count\n",
    "# minimum 500 cities\n",
    "len(cities)\n",
    "\n",
    "#Cities is a list\n",
    "# cities"
   ]
  },
  {
   "cell_type": "code",
   "execution_count": null,
   "metadata": {},
   "outputs": [],
   "source": []
  },
  {
   "cell_type": "markdown",
   "metadata": {},
   "source": [
    "### Perform API Calls\n",
    "* Perform a weather check on each city using a series of successive API calls.\n",
    "* Include a print log of each city as it'sbeing processed (with the city number and city name).\n"
   ]
  },
  {
   "cell_type": "code",
   "execution_count": 4,
   "metadata": {},
   "outputs": [
    {
     "name": "stdout",
     "output_type": "stream",
     "text": [
      "Counter : 1, City : mataura\n",
      "weather data not available\n",
      "weather data not available\n",
      "Counter : 2, City : whitehorse\n",
      "Counter : 3, City : hualmay\n",
      "Counter : 4, City : birjand\n",
      "Counter : 5, City : albany\n",
      "Counter : 6, City : poum\n",
      "Counter : 7, City : cherepanovo\n",
      "Counter : 8, City : alofi\n",
      "weather data not available\n",
      "Counter : 9, City : kahului\n",
      "Counter : 10, City : barrow\n",
      "weather data not available\n",
      "Counter : 11, City : shubarshi\n",
      "Counter : 12, City : neuquen\n",
      "Counter : 13, City : chokurdakh\n",
      "Counter : 14, City : punta arenas\n",
      "Counter : 15, City : airai\n",
      "Counter : 16, City : atuona\n",
      "Counter : 17, City : port hedland\n",
      "Counter : 18, City : puerto madero\n",
      "Counter : 19, City : vila franca do campo\n",
      "Counter : 20, City : baker city\n",
      "Counter : 21, City : cockburn town\n",
      "Counter : 22, City : waipawa\n",
      "Counter : 23, City : saint-francois\n",
      "Counter : 24, City : visnes\n",
      "Counter : 25, City : jijiga\n",
      "Counter : 26, City : hermanus\n",
      "Counter : 27, City : codrington\n",
      "Counter : 28, City : hobyo\n",
      "Counter : 29, City : rio grande\n",
      "Counter : 30, City : fare\n",
      "Counter : 31, City : ambulu\n",
      "Counter : 32, City : hobart\n",
      "Counter : 33, City : guerrero negro\n",
      "Counter : 34, City : asau\n",
      "Counter : 35, City : sao joao da barra\n",
      "Counter : 36, City : tadine\n",
      "weather data not available\n",
      "Counter : 37, City : shuangyang\n",
      "Counter : 38, City : upernavik\n",
      "Counter : 39, City : port keats\n",
      "weather data not available\n",
      "Counter : 40, City : cayenne\n",
      "Counter : 41, City : rikitea\n",
      "Counter : 42, City : martapura\n",
      "Counter : 43, City : opuwo\n",
      "Counter : 44, City : chuy\n",
      "Counter : 45, City : thinadhoo\n",
      "Counter : 46, City : bambous virieux\n",
      "Counter : 47, City : mar del plata\n",
      "Counter : 48, City : solwezi\n",
      "weather data not available\n",
      "Counter : 49, City : mount gambier\n",
      "Counter : 50, City : saskylakh\n",
      "Counter : 51, City : ushuaia\n",
      "Counter : 52, City : maryborough\n",
      "Counter : 53, City : bengkulu\n",
      "weather data not available\n",
      "Counter : 54, City : sanming\n",
      "Counter : 55, City : puerto ayora\n",
      "Counter : 56, City : comodoro rivadavia\n",
      "Counter : 57, City : clyde river\n",
      "Counter : 58, City : port alfred\n",
      "Counter : 59, City : milkovo\n",
      "Counter : 60, City : mikuni\n",
      "Counter : 61, City : lebu\n",
      "Counter : 62, City : hasaki\n",
      "Counter : 63, City : tasiilaq\n",
      "Counter : 64, City : northam\n",
      "Counter : 65, City : ribeira grande\n",
      "Counter : 66, City : fortuna\n",
      "Counter : 67, City : kapaa\n",
      "Counter : 68, City : san patricio\n",
      "Counter : 69, City : belmonte\n",
      "Counter : 70, City : cape town\n",
      "weather data not available\n",
      "Counter : 71, City : paithan\n",
      "Counter : 72, City : victoria\n",
      "Counter : 73, City : burns lake\n",
      "Counter : 74, City : kamyshin\n",
      "Counter : 75, City : saint-philippe\n",
      "Counter : 76, City : geraldton\n",
      "Counter : 77, City : elkhotovo\n",
      "Counter : 78, City : tessalit\n",
      "Counter : 79, City : yar-sale\n",
      "Counter : 80, City : carnarvon\n",
      "Counter : 81, City : vaini\n",
      "Counter : 82, City : auki\n",
      "weather data not available\n",
      "Counter : 83, City : sola\n",
      "Counter : 84, City : deputatskiy\n",
      "Counter : 85, City : bluff\n",
      "Counter : 86, City : norman wells\n",
      "Counter : 87, City : yulara\n",
      "Counter : 88, City : bonavista\n",
      "Counter : 89, City : ceres\n",
      "Counter : 90, City : nikolskoye\n",
      "Counter : 91, City : san carlos de bariloche\n",
      "Counter : 92, City : iaciara\n",
      "Counter : 93, City : bara\n",
      "Counter : 94, City : mbandaka\n",
      "Counter : 95, City : faanui\n",
      "Counter : 96, City : grenada\n",
      "Counter : 97, City : severo-kurilsk\n",
      "weather data not available\n",
      "Counter : 98, City : butaritari\n",
      "weather data not available\n",
      "Counter : 99, City : bialogard\n",
      "Counter : 100, City : cherskiy\n",
      "weather data not available\n",
      "Counter : 101, City : saldanha\n",
      "weather data not available\n",
      "weather data not available\n",
      "Counter : 102, City : kupang\n",
      "Counter : 103, City : padang\n",
      "Counter : 104, City : jamestown\n",
      "Counter : 105, City : provideniya\n",
      "weather data not available\n",
      "weather data not available\n",
      "weather data not available\n",
      "Counter : 106, City : lazaro cardenas\n",
      "Counter : 107, City : busselton\n",
      "Counter : 108, City : makakilo city\n",
      "Counter : 109, City : georgetown\n",
      "Counter : 110, City : portland\n",
      "Counter : 111, City : arraial do cabo\n",
      "Counter : 112, City : yuanping\n",
      "Counter : 113, City : lingao\n",
      "Counter : 114, City : hilo\n",
      "Counter : 115, City : ponta do sol\n",
      "Counter : 116, City : monterotondo\n",
      "Counter : 117, City : bontang\n",
      "Counter : 118, City : praya\n",
      "Counter : 119, City : klaksvik\n",
      "Counter : 120, City : kruisfontein\n",
      "Counter : 121, City : kambove\n",
      "Counter : 122, City : grand river south east\n",
      "Counter : 123, City : khatanga\n",
      "Counter : 124, City : freeport\n",
      "Counter : 125, City : finschhafen\n",
      "Counter : 126, City : hithadhoo\n",
      "Counter : 127, City : cotonou\n",
      "Counter : 128, City : aswan\n",
      "Counter : 129, City : santana do acarau\n",
      "Counter : 130, City : dikson\n",
      "Counter : 131, City : daru\n",
      "Counter : 132, City : kavieng\n",
      "Counter : 133, City : hanna\n",
      "Counter : 134, City : matay\n",
      "Counter : 135, City : erice\n",
      "Counter : 136, City : vao\n",
      "Counter : 137, City : grindavik\n",
      "Counter : 138, City : sale\n",
      "Counter : 139, City : new norfolk\n",
      "Counter : 140, City : mersing\n",
      "Counter : 141, City : avarua\n",
      "Counter : 142, City : thompson\n",
      "Counter : 143, City : pisco\n",
      "Counter : 144, City : matale\n",
      "Counter : 145, City : yellowknife\n",
      "Counter : 146, City : matagami\n",
      "Counter : 147, City : ilulissat\n",
      "Counter : 148, City : constitucion\n",
      "Counter : 149, City : east london\n",
      "Counter : 150, City : athens\n",
      "Counter : 151, City : athabasca\n",
      "Counter : 152, City : norden\n",
      "Counter : 153, City : labuhan\n",
      "Counter : 154, City : goderich\n",
      "Counter : 155, City : vardo\n",
      "Counter : 156, City : mahibadhoo\n",
      "Counter : 157, City : oranjemund\n",
      "Counter : 158, City : beringovskiy\n",
      "Counter : 159, City : okitipupa\n",
      "Counter : 160, City : touros\n",
      "Counter : 161, City : buala\n",
      "Counter : 162, City : avera\n",
      "Counter : 163, City : tautira\n",
      "Counter : 164, City : teguldet\n",
      "weather data not available\n",
      "Counter : 165, City : sao joao do piaui\n",
      "Counter : 166, City : tilichiki\n",
      "Counter : 167, City : kavaratti\n",
      "Counter : 168, City : makinsk\n",
      "Counter : 169, City : cidreira\n",
      "weather data not available\n",
      "Counter : 170, City : springfield\n",
      "Counter : 171, City : richards bay\n",
      "Counter : 172, City : mahebourg\n",
      "Counter : 173, City : weligama\n",
      "Counter : 174, City : livingston\n",
      "Counter : 175, City : hervey bay\n",
      "Counter : 176, City : seydi\n",
      "Counter : 177, City : honiara\n",
      "Counter : 178, City : aklavik\n",
      "Counter : 179, City : lagoa\n",
      "weather data not available\n",
      "Counter : 180, City : kiunga\n",
      "Counter : 181, City : moose factory\n",
      "Counter : 182, City : tiksi\n",
      "Counter : 183, City : quzhou\n",
      "Counter : 184, City : sterling\n",
      "Counter : 185, City : grand bank\n",
      "Counter : 186, City : gaoual\n",
      "Counter : 187, City : mys shmidta\n",
      "Counter : 188, City : bay roberts\n",
      "Counter : 189, City : valdemarpils\n",
      "Counter : 190, City : ereymentau\n",
      "Counter : 191, City : otane\n",
      "Counter : 192, City : flinders\n",
      "Counter : 193, City : mezen\n",
      "Counter : 194, City : kieta\n",
      "Counter : 195, City : sinjar\n",
      "Counter : 196, City : shaowu\n",
      "Counter : 197, City : shimoda\n",
      "Counter : 198, City : normandin\n",
      "Counter : 199, City : katsuura\n",
      "Counter : 200, City : crateus\n",
      "weather data not available\n",
      "Counter : 201, City : college\n",
      "Counter : 202, City : joshimath\n",
      "Counter : 203, City : mpongwe\n",
      "Counter : 204, City : nantucket\n",
      "Counter : 205, City : shizuishan\n",
      "Counter : 206, City : bulgan\n",
      "Counter : 207, City : cacheu\n",
      "Counter : 208, City : tubmanburg\n",
      "Counter : 209, City : batticaloa\n",
      "Counter : 210, City : muisne\n",
      "Counter : 211, City : coquimbo\n",
      "Counter : 212, City : dalkola\n",
      "Counter : 213, City : paso de patria\n",
      "Counter : 214, City : lorengau\n",
      "weather data not available\n",
      "Counter : 215, City : batabano\n",
      "Counter : 216, City : sabang\n",
      "Counter : 217, City : saint-augustin\n",
      "Counter : 218, City : arlit\n",
      "weather data not available\n",
      "Counter : 219, City : faya\n",
      "Counter : 220, City : palmer\n",
      "Counter : 221, City : taoudenni\n",
      "Counter : 222, City : caxito\n",
      "Counter : 223, City : ancud\n",
      "Counter : 224, City : aykhal\n",
      "Counter : 225, City : gat\n",
      "Counter : 226, City : bredasdorp\n",
      "Counter : 227, City : mitu\n",
      "Counter : 228, City : norwich\n",
      "weather data not available\n",
      "Counter : 229, City : prince rupert\n",
      "Counter : 230, City : binghamton\n",
      "Counter : 231, City : nortelandia\n",
      "Counter : 232, City : ugoofaaru\n",
      "Counter : 233, City : marsa matruh\n",
      "Counter : 234, City : vilyuysk\n",
      "Counter : 235, City : souillac\n",
      "Counter : 236, City : fort nelson\n",
      "Counter : 237, City : longyearbyen\n",
      "Counter : 238, City : jumla\n",
      "Counter : 239, City : yilan\n",
      "Counter : 240, City : sorland\n",
      "Counter : 241, City : nanortalik\n",
      "Counter : 242, City : san pedro\n",
      "Counter : 243, City : huilong\n"
     ]
    },
    {
     "name": "stdout",
     "output_type": "stream",
     "text": [
      "Counter : 244, City : ponta delgada\n",
      "Counter : 245, City : qeshm\n",
      "Counter : 246, City : shingu\n",
      "weather data not available\n",
      "Counter : 247, City : upington\n",
      "Counter : 248, City : ochakiv\n",
      "Counter : 249, City : quchan\n",
      "Counter : 250, City : bethel\n",
      "Counter : 251, City : ayan\n",
      "Counter : 252, City : chernyshevskiy\n",
      "Counter : 253, City : ilhabela\n",
      "Counter : 254, City : asola\n",
      "Counter : 255, City : isangel\n",
      "Counter : 256, City : coihaique\n",
      "Counter : 257, City : coihueco\n",
      "Counter : 258, City : kodiak\n",
      "Counter : 259, City : gamba\n",
      "Counter : 260, City : bayan\n",
      "Counter : 261, City : rawson\n",
      "Counter : 262, City : pevek\n",
      "Counter : 263, City : cabo san lucas\n",
      "Counter : 264, City : bazpur\n",
      "weather data not available\n",
      "Counter : 265, City : zhigansk\n",
      "Counter : 266, City : novonikolayevskiy\n",
      "Counter : 267, City : rafraf\n",
      "Counter : 268, City : nipawin\n",
      "weather data not available\n",
      "Counter : 269, City : namatanai\n",
      "Counter : 270, City : zilair\n",
      "weather data not available\n",
      "weather data not available\n",
      "Counter : 271, City : menongue\n",
      "Counter : 272, City : ust-maya\n",
      "Counter : 273, City : anito\n",
      "Counter : 274, City : saint-georges\n",
      "Counter : 275, City : owando\n",
      "Counter : 276, City : sambava\n",
      "Counter : 277, City : vidisha\n",
      "Counter : 278, City : kautokeino\n",
      "Counter : 279, City : maumere\n",
      "Counter : 280, City : port blair\n",
      "Counter : 281, City : yamada\n",
      "Counter : 282, City : otsuchi\n",
      "Counter : 283, City : wajima\n",
      "Counter : 284, City : alta floresta\n",
      "Counter : 285, City : antalaha\n",
      "weather data not available\n",
      "Counter : 286, City : roald\n",
      "Counter : 287, City : sakaiminato\n",
      "Counter : 288, City : torbay\n",
      "Counter : 289, City : lasa\n",
      "Counter : 290, City : tuatapere\n",
      "Counter : 291, City : kot kapura\n",
      "Counter : 292, City : wattegama\n",
      "Counter : 293, City : cloquet\n",
      "Counter : 294, City : orlik\n",
      "Counter : 295, City : fairbanks\n",
      "Counter : 296, City : jinsha\n",
      "Counter : 297, City : kjollefjord\n",
      "Counter : 298, City : husavik\n",
      "Counter : 299, City : itanhaem\n",
      "weather data not available\n",
      "Counter : 300, City : aljezur\n",
      "Counter : 301, City : ibra\n",
      "Counter : 302, City : puerto escondido\n",
      "Counter : 303, City : stawell\n",
      "Counter : 304, City : vuktyl\n",
      "Counter : 305, City : armidale\n",
      "Counter : 306, City : mount abu\n",
      "Counter : 307, City : necochea\n",
      "Counter : 308, City : barbastro\n",
      "Counter : 309, City : ivanava\n",
      "Counter : 310, City : beziers\n",
      "weather data not available\n",
      "Counter : 311, City : qaanaaq\n",
      "Counter : 312, City : lakatoro\n",
      "Counter : 313, City : hirado\n",
      "Counter : 314, City : kununurra\n",
      "Counter : 315, City : astoria\n",
      "weather data not available\n",
      "Counter : 316, City : kaitangata\n",
      "Counter : 317, City : kostyantynivka\n",
      "Counter : 318, City : kholodnyy\n",
      "Counter : 319, City : kichera\n",
      "Counter : 320, City : khvastovichi\n",
      "Counter : 321, City : biak\n",
      "Counter : 322, City : luderitz\n",
      "Counter : 323, City : san jeronimo\n",
      "Counter : 324, City : brae\n",
      "Counter : 325, City : auly\n",
      "Counter : 326, City : haines junction\n",
      "Counter : 327, City : san luis\n",
      "Counter : 328, City : zhangjiakou\n",
      "Counter : 329, City : caravelas\n",
      "weather data not available\n",
      "Counter : 330, City : castro\n",
      "weather data not available\n",
      "weather data not available\n",
      "Counter : 331, City : high level\n",
      "Counter : 332, City : meadow lake\n",
      "Counter : 333, City : manado\n",
      "Counter : 334, City : port elizabeth\n",
      "Counter : 335, City : sitka\n",
      "Counter : 336, City : beira\n",
      "weather data not available\n",
      "weather data not available\n",
      "Counter : 337, City : dunedin\n",
      "Counter : 338, City : omsukchan\n",
      "Counter : 339, City : kushmurun\n",
      "weather data not available\n",
      "Counter : 340, City : champerico\n",
      "Counter : 341, City : abu samrah\n",
      "Counter : 342, City : manaus\n",
      "Counter : 343, City : olafsvik\n",
      "Counter : 344, City : lipin bor\n",
      "Counter : 345, City : port lincoln\n",
      "Counter : 346, City : ise\n",
      "Counter : 347, City : miracema do tocantins\n",
      "Counter : 348, City : fenoarivo\n",
      "weather data not available\n",
      "Counter : 349, City : myitkyina\n",
      "Counter : 350, City : korla\n",
      "Counter : 351, City : vega de alatorre\n",
      "Counter : 352, City : sheridan\n",
      "Counter : 353, City : hailar\n",
      "weather data not available\n",
      "weather data not available\n",
      "Counter : 354, City : naze\n",
      "Counter : 355, City : kaseda\n",
      "weather data not available\n",
      "Counter : 356, City : adrar\n",
      "Counter : 357, City : de-kastri\n",
      "Counter : 358, City : yarmouth\n",
      "Counter : 359, City : rivers\n",
      "Counter : 360, City : chinsali\n",
      "Counter : 361, City : svetlogorsk\n",
      "Counter : 362, City : semey\n",
      "Counter : 363, City : denpasar\n",
      "Counter : 364, City : hay river\n",
      "Counter : 365, City : maniitsoq\n",
      "Counter : 366, City : mayumba\n",
      "Counter : 367, City : celestun\n",
      "Counter : 368, City : coos bay\n",
      "Counter : 369, City : sao filipe\n",
      "Counter : 370, City : taytay\n",
      "Counter : 371, City : xiongzhou\n",
      "weather data not available\n",
      "weather data not available\n",
      "Counter : 372, City : novopokrovka\n",
      "Counter : 373, City : pulandian\n",
      "Counter : 374, City : kourou\n",
      "Counter : 375, City : sinjai\n",
      "Counter : 376, City : marsh harbour\n",
      "Counter : 377, City : dingle\n",
      "Counter : 378, City : nouadhibou\n",
      "Counter : 379, City : inhambane\n",
      "Counter : 380, City : bage\n",
      "Counter : 381, City : whitley bay\n",
      "weather data not available\n",
      "Counter : 382, City : qunduz\n",
      "Counter : 383, City : januaria\n",
      "Counter : 384, City : enshi\n",
      "Counter : 385, City : acarau\n",
      "Counter : 386, City : tuktoyaktuk\n",
      "Counter : 387, City : mayo\n",
      "Counter : 388, City : dudinka\n",
      "Counter : 389, City : marzuq\n",
      "weather data not available\n",
      "Counter : 390, City : cap malheureux\n",
      "Counter : 391, City : paris\n",
      "Counter : 392, City : maceio\n",
      "Counter : 393, City : qaqortoq\n",
      "Counter : 394, City : bayanday\n",
      "weather data not available\n",
      "Counter : 395, City : half moon bay\n",
      "Counter : 396, City : galveston\n",
      "Counter : 397, City : estacion coahuila\n",
      "weather data not available\n",
      "Counter : 398, City : dauphin\n",
      "Counter : 399, City : alexandria\n",
      "Counter : 400, City : chernihiv\n",
      "Counter : 401, City : vila velha\n",
      "Counter : 402, City : preobrazheniye\n",
      "Counter : 403, City : tamiahua\n",
      "weather data not available\n",
      "Counter : 404, City : fort saint john\n",
      "Counter : 405, City : esperance\n",
      "Counter : 406, City : fuling\n",
      "Counter : 407, City : karratha\n",
      "Counter : 408, City : araouane\n",
      "Counter : 409, City : baglung\n",
      "Counter : 410, City : alice springs\n",
      "weather data not available\n",
      "Counter : 411, City : iqaluit\n",
      "Counter : 412, City : udachnyy\n",
      "Counter : 413, City : broome\n",
      "weather data not available\n",
      "Counter : 414, City : kon tum\n",
      "Counter : 415, City : limbang\n",
      "Counter : 416, City : derzhavinsk\n",
      "Counter : 417, City : timberlake\n",
      "Counter : 418, City : barinas\n",
      "Counter : 419, City : yermakovskoye\n",
      "Counter : 420, City : tir pol\n",
      "Counter : 421, City : ust-nera\n",
      "weather data not available\n",
      "Counter : 422, City : weihe\n",
      "Counter : 423, City : petropavlovsk-kamchatskiy\n",
      "Counter : 424, City : prainha\n",
      "Counter : 425, City : wadi maliz\n",
      "Counter : 426, City : buraydah\n",
      "Counter : 427, City : beloha\n",
      "Counter : 428, City : roma\n",
      "Counter : 429, City : mandalgovi\n",
      "Counter : 430, City : aleksandrovskiy zavod\n",
      "Counter : 431, City : puerto colombia\n",
      "Counter : 432, City : osoyoos\n",
      "Counter : 433, City : neiafu\n",
      "Counter : 434, City : lethem\n",
      "Counter : 435, City : sur\n",
      "Counter : 436, City : oyem\n",
      "weather data not available\n",
      "Counter : 437, City : najran\n",
      "weather data not available\n",
      "Counter : 438, City : ravar\n",
      "Counter : 439, City : puerto cabezas\n",
      "Counter : 440, City : duobao\n",
      "Counter : 441, City : katima mulilo\n",
      "Counter : 442, City : diriamba\n",
      "weather data not available\n",
      "Counter : 443, City : pacific grove\n",
      "Counter : 444, City : cruzilia\n",
      "Counter : 445, City : buncrana\n",
      "Counter : 446, City : saint-michel-des-saints\n",
      "Counter : 447, City : vostochnyy\n",
      "Counter : 448, City : biltine\n",
      "Counter : 449, City : ust-kan\n",
      "Counter : 450, City : chirongui\n",
      "Counter : 451, City : santa isabel do rio negro\n",
      "Counter : 452, City : jaitaran\n",
      "Counter : 453, City : shitanjing\n",
      "Counter : 454, City : asasa\n",
      "Counter : 455, City : byron bay\n",
      "weather data not available\n",
      "Counter : 456, City : vangaindrano\n",
      "weather data not available\n",
      "Counter : 457, City : matara\n",
      "weather data not available\n",
      "Counter : 458, City : oktyabrskoye\n",
      "Counter : 459, City : natal\n",
      "Counter : 460, City : gonaives\n",
      "Counter : 461, City : bubaque\n",
      "weather data not available\n",
      "Counter : 462, City : ketchikan\n",
      "Counter : 463, City : acajutla\n",
      "Counter : 464, City : ferme-neuve\n",
      "Counter : 465, City : betania\n",
      "Counter : 466, City : gazanjyk\n",
      "Counter : 467, City : nanae\n",
      "Counter : 468, City : chyhyryn\n",
      "Counter : 469, City : salalah\n",
      "Counter : 470, City : rafaela\n",
      "Counter : 471, City : privolzhskiy\n",
      "Counter : 472, City : miranda\n",
      "Counter : 473, City : quarteira\n",
      "Counter : 474, City : huarmey\n"
     ]
    },
    {
     "name": "stdout",
     "output_type": "stream",
     "text": [
      "Counter : 475, City : jacareacanga\n",
      "Counter : 476, City : katubao\n",
      "Counter : 477, City : port hardy\n",
      "weather data not available\n",
      "Counter : 478, City : qasigiannguit\n",
      "Counter : 479, City : teya\n",
      "Counter : 480, City : impfondo\n",
      "Counter : 481, City : nicoya\n",
      "Counter : 482, City : narsaq\n",
      "Counter : 483, City : mecca\n",
      "Counter : 484, City : amapa\n",
      "Counter : 485, City : inverness\n",
      "Counter : 486, City : garachine\n",
      "Counter : 487, City : ulladulla\n",
      "Counter : 488, City : vikhorevka\n",
      "Counter : 489, City : ahipara\n",
      "Counter : 490, City : sao raimundo nonato\n",
      "weather data not available\n",
      "Counter : 491, City : parfino\n",
      "Counter : 492, City : takoradi\n",
      "Counter : 493, City : vestmannaeyjar\n",
      "Counter : 494, City : canico\n",
      "Counter : 495, City : kaohsiung\n",
      "Counter : 496, City : tunoshna\n",
      "weather data not available\n",
      "Counter : 497, City : saint-joseph\n",
      "Counter : 498, City : leningradskiy\n",
      "Counter : 499, City : minsk\n",
      "Counter : 500, City : jalpan\n",
      "Counter : 501, City : seoul\n",
      "Counter : 502, City : dongsheng\n",
      "Counter : 503, City : loubomo\n",
      "Counter : 504, City : una\n",
      "Counter : 505, City : aberystwyth\n",
      "Counter : 506, City : evensk\n",
      "Counter : 507, City : meulaboh\n",
      "Counter : 508, City : scottsbluff\n",
      "Counter : 509, City : barreirinha\n",
      "Counter : 510, City : challans\n",
      "Counter : 511, City : santa cruz del sur\n",
      "Counter : 512, City : fenton\n",
      "Counter : 513, City : ghanzi\n",
      "Counter : 514, City : brodokalmak\n",
      "Counter : 515, City : sao felix do xingu\n",
      "Counter : 516, City : paka\n",
      "Counter : 517, City : fukue\n",
      "Counter : 518, City : zeya\n",
      "Counter : 519, City : tura\n",
      "Counter : 520, City : drovyanaya\n",
      "Counter : 521, City : tambura\n",
      "Counter : 522, City : naron\n",
      "Counter : 523, City : margate\n",
      "Counter : 524, City : oranjestad\n",
      "Counter : 525, City : pingliang\n",
      "Counter : 526, City : cantaura\n",
      "Counter : 527, City : okhotsk\n",
      "Counter : 528, City : milton\n",
      "Counter : 529, City : kalmunai\n",
      "Counter : 530, City : abapo\n",
      "Counter : 531, City : nemuro\n",
      "weather data not available\n",
      "Counter : 532, City : terney\n",
      "Counter : 533, City : colesberg\n",
      "Counter : 534, City : sioux lookout\n",
      "Counter : 535, City : kyra\n",
      "Counter : 536, City : nome\n",
      "Counter : 537, City : baykit\n",
      "Counter : 538, City : hatfield\n",
      "Counter : 539, City : srednekolymsk\n",
      "Counter : 540, City : ballina\n",
      "weather data not available\n",
      "weather data not available\n",
      "Counter : 541, City : hofn\n",
      "weather data not available\n",
      "Counter : 542, City : kijang\n"
     ]
    }
   ],
   "source": [
    "# loop through cities, create list of responseL\n",
    "\n",
    "\n",
    "# Lists for the dataframe\n",
    "locations = []\n",
    "clouds = []\n",
    "humidity = []\n",
    "lat = []\n",
    "lon = []\n",
    "max_temp = []\n",
    "wind = []\n",
    "country = []\n",
    "dates = []\n",
    "allcitydata = []\n",
    "\n",
    "# Initial counter\n",
    "counter = 0\n",
    "\n",
    "# Did not used this - for some crazy reason - when using this format, the exception statement will not print\n",
    "# url = \"http://api.openweathermap.org/data/2.5/weather?\"\n",
    "# query_url = url + \"appid=\" + weather_api_key + \"&q=\" + city + \"&units=imperial\"\n",
    "\n",
    "query_url = f\"http://api.openweathermap.org/data/2.5/weather?appid=\"+ weather_api_key +\"&units=imperial&q=\"\n",
    "\n",
    "for city in cities:\n",
    "    try:\n",
    "        response = requests.get(query_url + city.replace(\" \",\"&\")).json()\n",
    "        clouds.append(response['clouds']['all'])\n",
    "        humidity.append(response['main']['humidity'])\n",
    "        lat.append(response['coord']['lat'])\n",
    "        lon.append(response['coord']['lon'])\n",
    "        max_temp.append(response['main']['temp_max'])\n",
    "        wind.append(response['wind']['speed'])\n",
    "        country.append(response['sys']['country'])\n",
    "        locations.append(response['name'])\n",
    "        dates.append(response['dt'])\n",
    "        allcitydata.append(response)\n",
    "        counter = counter + 1\n",
    "        print(f\"Counter : {counter}, City : {city}\")\n",
    "    except Exception:\n",
    "        print(\"weather data not available\")"
   ]
  },
  {
   "cell_type": "code",
   "execution_count": 5,
   "metadata": {},
   "outputs": [],
   "source": [
    "# allcitydata\n",
    "# clouds\n",
    "# dates\n",
    "# humidity\n",
    "# lat\n",
    "# lon\n",
    "# max_temp\n",
    "# wind\n",
    "# country\n",
    "# locations"
   ]
  },
  {
   "cell_type": "code",
   "execution_count": 6,
   "metadata": {},
   "outputs": [],
   "source": [
    "#Convert country abbreviations to full name\n",
    "full_cnames = coco.convert(names=country, to='name_short')\n",
    "# full_cnames"
   ]
  },
  {
   "cell_type": "markdown",
   "metadata": {},
   "source": [
    "### Convert Raw Data to DataFrame\n",
    "* Export the city data into a .csv.\n",
    "* Display the DataFrame"
   ]
  },
  {
   "cell_type": "code",
   "execution_count": 7,
   "metadata": {},
   "outputs": [
    {
     "data": {
      "text/html": [
       "<div>\n",
       "<style scoped>\n",
       "    .dataframe tbody tr th:only-of-type {\n",
       "        vertical-align: middle;\n",
       "    }\n",
       "\n",
       "    .dataframe tbody tr th {\n",
       "        vertical-align: top;\n",
       "    }\n",
       "\n",
       "    .dataframe thead th {\n",
       "        text-align: right;\n",
       "    }\n",
       "</style>\n",
       "<table border=\"1\" class=\"dataframe\">\n",
       "  <thead>\n",
       "    <tr style=\"text-align: right;\">\n",
       "      <th></th>\n",
       "      <th>City</th>\n",
       "      <th>Country</th>\n",
       "      <th>Latitude</th>\n",
       "      <th>Longitude</th>\n",
       "      <th>Max_temp_F</th>\n",
       "      <th>Humidity_Percent</th>\n",
       "      <th>Cloudy_Percent</th>\n",
       "      <th>Wind_Speed_mph</th>\n",
       "      <th>Date</th>\n",
       "    </tr>\n",
       "  </thead>\n",
       "  <tbody>\n",
       "    <tr>\n",
       "      <th>0</th>\n",
       "      <td>Mataura</td>\n",
       "      <td>New Zealand</td>\n",
       "      <td>-46.19</td>\n",
       "      <td>168.86</td>\n",
       "      <td>50.94</td>\n",
       "      <td>70</td>\n",
       "      <td>39</td>\n",
       "      <td>3.29</td>\n",
       "      <td>1608056216</td>\n",
       "    </tr>\n",
       "    <tr>\n",
       "      <th>1</th>\n",
       "      <td>Whitehorse</td>\n",
       "      <td>Canada</td>\n",
       "      <td>60.72</td>\n",
       "      <td>-135.05</td>\n",
       "      <td>6.80</td>\n",
       "      <td>84</td>\n",
       "      <td>90</td>\n",
       "      <td>2.24</td>\n",
       "      <td>1608056216</td>\n",
       "    </tr>\n",
       "    <tr>\n",
       "      <th>2</th>\n",
       "      <td>Hualmay</td>\n",
       "      <td>Peru</td>\n",
       "      <td>-11.10</td>\n",
       "      <td>-77.61</td>\n",
       "      <td>73.31</td>\n",
       "      <td>67</td>\n",
       "      <td>43</td>\n",
       "      <td>10.40</td>\n",
       "      <td>1608056216</td>\n",
       "    </tr>\n",
       "    <tr>\n",
       "      <th>3</th>\n",
       "      <td>Birjand</td>\n",
       "      <td>Iran</td>\n",
       "      <td>32.87</td>\n",
       "      <td>59.22</td>\n",
       "      <td>30.20</td>\n",
       "      <td>63</td>\n",
       "      <td>0</td>\n",
       "      <td>6.93</td>\n",
       "      <td>1608056217</td>\n",
       "    </tr>\n",
       "    <tr>\n",
       "      <th>4</th>\n",
       "      <td>Albany</td>\n",
       "      <td>United States</td>\n",
       "      <td>42.60</td>\n",
       "      <td>-73.97</td>\n",
       "      <td>33.01</td>\n",
       "      <td>36</td>\n",
       "      <td>9</td>\n",
       "      <td>1.99</td>\n",
       "      <td>1608055935</td>\n",
       "    </tr>\n",
       "    <tr>\n",
       "      <th>...</th>\n",
       "      <td>...</td>\n",
       "      <td>...</td>\n",
       "      <td>...</td>\n",
       "      <td>...</td>\n",
       "      <td>...</td>\n",
       "      <td>...</td>\n",
       "      <td>...</td>\n",
       "      <td>...</td>\n",
       "      <td>...</td>\n",
       "    </tr>\n",
       "    <tr>\n",
       "      <th>537</th>\n",
       "      <td>Hatfield</td>\n",
       "      <td>United Kingdom</td>\n",
       "      <td>51.76</td>\n",
       "      <td>-0.22</td>\n",
       "      <td>48.00</td>\n",
       "      <td>87</td>\n",
       "      <td>75</td>\n",
       "      <td>8.05</td>\n",
       "      <td>1608056338</td>\n",
       "    </tr>\n",
       "    <tr>\n",
       "      <th>538</th>\n",
       "      <td>Srednekolymsk</td>\n",
       "      <td>Russia</td>\n",
       "      <td>67.45</td>\n",
       "      <td>153.68</td>\n",
       "      <td>-26.93</td>\n",
       "      <td>86</td>\n",
       "      <td>99</td>\n",
       "      <td>2.64</td>\n",
       "      <td>1608056338</td>\n",
       "    </tr>\n",
       "    <tr>\n",
       "      <th>539</th>\n",
       "      <td>Ballina</td>\n",
       "      <td>Australia</td>\n",
       "      <td>-28.87</td>\n",
       "      <td>153.57</td>\n",
       "      <td>75.20</td>\n",
       "      <td>94</td>\n",
       "      <td>75</td>\n",
       "      <td>6.93</td>\n",
       "      <td>1608056338</td>\n",
       "    </tr>\n",
       "    <tr>\n",
       "      <th>540</th>\n",
       "      <td>Hofn</td>\n",
       "      <td>Iceland</td>\n",
       "      <td>64.25</td>\n",
       "      <td>-15.21</td>\n",
       "      <td>39.04</td>\n",
       "      <td>92</td>\n",
       "      <td>100</td>\n",
       "      <td>22.91</td>\n",
       "      <td>1608056339</td>\n",
       "    </tr>\n",
       "    <tr>\n",
       "      <th>541</th>\n",
       "      <td>Gijang</td>\n",
       "      <td>South Korea</td>\n",
       "      <td>35.24</td>\n",
       "      <td>129.21</td>\n",
       "      <td>23.00</td>\n",
       "      <td>53</td>\n",
       "      <td>0</td>\n",
       "      <td>3.36</td>\n",
       "      <td>1608056339</td>\n",
       "    </tr>\n",
       "  </tbody>\n",
       "</table>\n",
       "<p>542 rows × 9 columns</p>\n",
       "</div>"
      ],
      "text/plain": [
       "              City         Country  Latitude  Longitude  Max_temp_F  \\\n",
       "0          Mataura     New Zealand    -46.19     168.86       50.94   \n",
       "1       Whitehorse          Canada     60.72    -135.05        6.80   \n",
       "2          Hualmay            Peru    -11.10     -77.61       73.31   \n",
       "3          Birjand            Iran     32.87      59.22       30.20   \n",
       "4           Albany   United States     42.60     -73.97       33.01   \n",
       "..             ...             ...       ...        ...         ...   \n",
       "537       Hatfield  United Kingdom     51.76      -0.22       48.00   \n",
       "538  Srednekolymsk          Russia     67.45     153.68      -26.93   \n",
       "539        Ballina       Australia    -28.87     153.57       75.20   \n",
       "540           Hofn         Iceland     64.25     -15.21       39.04   \n",
       "541         Gijang     South Korea     35.24     129.21       23.00   \n",
       "\n",
       "     Humidity_Percent  Cloudy_Percent  Wind_Speed_mph        Date  \n",
       "0                  70              39            3.29  1608056216  \n",
       "1                  84              90            2.24  1608056216  \n",
       "2                  67              43           10.40  1608056216  \n",
       "3                  63               0            6.93  1608056217  \n",
       "4                  36               9            1.99  1608055935  \n",
       "..                ...             ...             ...         ...  \n",
       "537                87              75            8.05  1608056338  \n",
       "538                86              99            2.64  1608056338  \n",
       "539                94              75            6.93  1608056338  \n",
       "540                92             100           22.91  1608056339  \n",
       "541                53               0            3.36  1608056339  \n",
       "\n",
       "[542 rows x 9 columns]"
      ]
     },
     "execution_count": 7,
     "metadata": {},
     "output_type": "execute_result"
    }
   ],
   "source": [
    "# Weather data (wd) dataframe\n",
    "\n",
    "wd_df = pd.DataFrame({\"City\" : locations, \"Country\" : full_cnames,\n",
    "                     \"Latitude\" : lat, \"Longitude\" : lon,\n",
    "                     \"Max_temp_F\" : max_temp, \"Humidity_Percent\" : humidity,\n",
    "                     \"Cloudy_Percent\" : clouds, \"Wind_Speed_mph\" : wind,\n",
    "                      \"Date\" : dates\n",
    "                     })\n",
    "wd_df"
   ]
  },
  {
   "cell_type": "code",
   "execution_count": 8,
   "metadata": {},
   "outputs": [
    {
     "data": {
      "text/plain": [
       "City                 object\n",
       "Country              object\n",
       "Latitude            float64\n",
       "Longitude           float64\n",
       "Max_temp_F          float64\n",
       "Humidity_Percent      int64\n",
       "Cloudy_Percent        int64\n",
       "Wind_Speed_mph      float64\n",
       "Date                  int64\n",
       "dtype: object"
      ]
     },
     "execution_count": 8,
     "metadata": {},
     "output_type": "execute_result"
    }
   ],
   "source": [
    "wd_df.dtypes"
   ]
  },
  {
   "cell_type": "code",
   "execution_count": 9,
   "metadata": {},
   "outputs": [
    {
     "data": {
      "text/html": [
       "<div>\n",
       "<style scoped>\n",
       "    .dataframe tbody tr th:only-of-type {\n",
       "        vertical-align: middle;\n",
       "    }\n",
       "\n",
       "    .dataframe tbody tr th {\n",
       "        vertical-align: top;\n",
       "    }\n",
       "\n",
       "    .dataframe thead th {\n",
       "        text-align: right;\n",
       "    }\n",
       "</style>\n",
       "<table border=\"1\" class=\"dataframe\">\n",
       "  <thead>\n",
       "    <tr style=\"text-align: right;\">\n",
       "      <th></th>\n",
       "      <th>City</th>\n",
       "      <th>Country</th>\n",
       "      <th>Latitude</th>\n",
       "      <th>Longitude</th>\n",
       "      <th>Max_temp_F</th>\n",
       "      <th>Humidity_Percent</th>\n",
       "      <th>Cloudy_Percent</th>\n",
       "      <th>Wind_Speed_mph</th>\n",
       "      <th>Date</th>\n",
       "    </tr>\n",
       "  </thead>\n",
       "  <tbody>\n",
       "    <tr>\n",
       "      <th>0</th>\n",
       "      <td>Mataura</td>\n",
       "      <td>New Zealand</td>\n",
       "      <td>-46.19</td>\n",
       "      <td>168.86</td>\n",
       "      <td>50.94</td>\n",
       "      <td>70</td>\n",
       "      <td>39</td>\n",
       "      <td>3.29</td>\n",
       "      <td>12/15/20</td>\n",
       "    </tr>\n",
       "    <tr>\n",
       "      <th>1</th>\n",
       "      <td>Whitehorse</td>\n",
       "      <td>Canada</td>\n",
       "      <td>60.72</td>\n",
       "      <td>-135.05</td>\n",
       "      <td>6.80</td>\n",
       "      <td>84</td>\n",
       "      <td>90</td>\n",
       "      <td>2.24</td>\n",
       "      <td>12/15/20</td>\n",
       "    </tr>\n",
       "    <tr>\n",
       "      <th>2</th>\n",
       "      <td>Hualmay</td>\n",
       "      <td>Peru</td>\n",
       "      <td>-11.10</td>\n",
       "      <td>-77.61</td>\n",
       "      <td>73.31</td>\n",
       "      <td>67</td>\n",
       "      <td>43</td>\n",
       "      <td>10.40</td>\n",
       "      <td>12/15/20</td>\n",
       "    </tr>\n",
       "    <tr>\n",
       "      <th>3</th>\n",
       "      <td>Birjand</td>\n",
       "      <td>Iran</td>\n",
       "      <td>32.87</td>\n",
       "      <td>59.22</td>\n",
       "      <td>30.20</td>\n",
       "      <td>63</td>\n",
       "      <td>0</td>\n",
       "      <td>6.93</td>\n",
       "      <td>12/15/20</td>\n",
       "    </tr>\n",
       "    <tr>\n",
       "      <th>4</th>\n",
       "      <td>Albany</td>\n",
       "      <td>United States</td>\n",
       "      <td>42.60</td>\n",
       "      <td>-73.97</td>\n",
       "      <td>33.01</td>\n",
       "      <td>36</td>\n",
       "      <td>9</td>\n",
       "      <td>1.99</td>\n",
       "      <td>12/15/20</td>\n",
       "    </tr>\n",
       "    <tr>\n",
       "      <th>...</th>\n",
       "      <td>...</td>\n",
       "      <td>...</td>\n",
       "      <td>...</td>\n",
       "      <td>...</td>\n",
       "      <td>...</td>\n",
       "      <td>...</td>\n",
       "      <td>...</td>\n",
       "      <td>...</td>\n",
       "      <td>...</td>\n",
       "    </tr>\n",
       "    <tr>\n",
       "      <th>537</th>\n",
       "      <td>Hatfield</td>\n",
       "      <td>United Kingdom</td>\n",
       "      <td>51.76</td>\n",
       "      <td>-0.22</td>\n",
       "      <td>48.00</td>\n",
       "      <td>87</td>\n",
       "      <td>75</td>\n",
       "      <td>8.05</td>\n",
       "      <td>12/15/20</td>\n",
       "    </tr>\n",
       "    <tr>\n",
       "      <th>538</th>\n",
       "      <td>Srednekolymsk</td>\n",
       "      <td>Russia</td>\n",
       "      <td>67.45</td>\n",
       "      <td>153.68</td>\n",
       "      <td>-26.93</td>\n",
       "      <td>86</td>\n",
       "      <td>99</td>\n",
       "      <td>2.64</td>\n",
       "      <td>12/15/20</td>\n",
       "    </tr>\n",
       "    <tr>\n",
       "      <th>539</th>\n",
       "      <td>Ballina</td>\n",
       "      <td>Australia</td>\n",
       "      <td>-28.87</td>\n",
       "      <td>153.57</td>\n",
       "      <td>75.20</td>\n",
       "      <td>94</td>\n",
       "      <td>75</td>\n",
       "      <td>6.93</td>\n",
       "      <td>12/15/20</td>\n",
       "    </tr>\n",
       "    <tr>\n",
       "      <th>540</th>\n",
       "      <td>Hofn</td>\n",
       "      <td>Iceland</td>\n",
       "      <td>64.25</td>\n",
       "      <td>-15.21</td>\n",
       "      <td>39.04</td>\n",
       "      <td>92</td>\n",
       "      <td>100</td>\n",
       "      <td>22.91</td>\n",
       "      <td>12/15/20</td>\n",
       "    </tr>\n",
       "    <tr>\n",
       "      <th>541</th>\n",
       "      <td>Gijang</td>\n",
       "      <td>South Korea</td>\n",
       "      <td>35.24</td>\n",
       "      <td>129.21</td>\n",
       "      <td>23.00</td>\n",
       "      <td>53</td>\n",
       "      <td>0</td>\n",
       "      <td>3.36</td>\n",
       "      <td>12/15/20</td>\n",
       "    </tr>\n",
       "  </tbody>\n",
       "</table>\n",
       "<p>542 rows × 9 columns</p>\n",
       "</div>"
      ],
      "text/plain": [
       "              City         Country  Latitude  Longitude  Max_temp_F  \\\n",
       "0          Mataura     New Zealand    -46.19     168.86       50.94   \n",
       "1       Whitehorse          Canada     60.72    -135.05        6.80   \n",
       "2          Hualmay            Peru    -11.10     -77.61       73.31   \n",
       "3          Birjand            Iran     32.87      59.22       30.20   \n",
       "4           Albany   United States     42.60     -73.97       33.01   \n",
       "..             ...             ...       ...        ...         ...   \n",
       "537       Hatfield  United Kingdom     51.76      -0.22       48.00   \n",
       "538  Srednekolymsk          Russia     67.45     153.68      -26.93   \n",
       "539        Ballina       Australia    -28.87     153.57       75.20   \n",
       "540           Hofn         Iceland     64.25     -15.21       39.04   \n",
       "541         Gijang     South Korea     35.24     129.21       23.00   \n",
       "\n",
       "     Humidity_Percent  Cloudy_Percent  Wind_Speed_mph      Date  \n",
       "0                  70              39            3.29  12/15/20  \n",
       "1                  84              90            2.24  12/15/20  \n",
       "2                  67              43           10.40  12/15/20  \n",
       "3                  63               0            6.93  12/15/20  \n",
       "4                  36               9            1.99  12/15/20  \n",
       "..                ...             ...             ...       ...  \n",
       "537                87              75            8.05  12/15/20  \n",
       "538                86              99            2.64  12/15/20  \n",
       "539                94              75            6.93  12/15/20  \n",
       "540                92             100           22.91  12/15/20  \n",
       "541                53               0            3.36  12/15/20  \n",
       "\n",
       "[542 rows x 9 columns]"
      ]
     },
     "execution_count": 9,
     "metadata": {},
     "output_type": "execute_result"
    }
   ],
   "source": [
    "wd_df['Date'] = pd.to_datetime(wd_df['Date'],unit='s').dt.strftime(\"%m/%d/%y\")\n",
    "\n",
    "wd_df"
   ]
  },
  {
   "cell_type": "code",
   "execution_count": 10,
   "metadata": {},
   "outputs": [
    {
     "data": {
      "text/plain": [
       "City                 object\n",
       "Country              object\n",
       "Latitude            float64\n",
       "Longitude           float64\n",
       "Max_temp_F          float64\n",
       "Humidity_Percent      int64\n",
       "Cloudy_Percent        int64\n",
       "Wind_Speed_mph      float64\n",
       "Date                 object\n",
       "dtype: object"
      ]
     },
     "execution_count": 10,
     "metadata": {},
     "output_type": "execute_result"
    }
   ],
   "source": [
    "wd_df.dtypes"
   ]
  },
  {
   "cell_type": "code",
   "execution_count": 11,
   "metadata": {},
   "outputs": [],
   "source": [
    "#Saving df to be used in Part II of homework\n",
    "wd_df.to_csv('../../VacationPy/output_data/cities.csv', index=False)"
   ]
  },
  {
   "cell_type": "markdown",
   "metadata": {},
   "source": [
    "## Inspect the data and remove the cities where the humidity > 100%.\n",
    "----\n",
    "Skip this step if there are no cities that have humidity > 100%. "
   ]
  },
  {
   "cell_type": "code",
   "execution_count": 12,
   "metadata": {},
   "outputs": [
    {
     "name": "stdout",
     "output_type": "stream",
     "text": [
      "(542, 10)\n"
     ]
    }
   ],
   "source": [
    "# Humidity check\n",
    "\n",
    "humg100 = (wd_df[\"Humidity_Percent\"] > 100)\n",
    "humg100\n",
    "\n",
    "humg100 = humg100.to_frame('Hum>100%')\n",
    "\n",
    "wdHumg100_df = wd_df.merge(humg100, how = \"outer\", left_index=True, right_index=True)\n",
    "wdHumg100_df[\"Hum>100%\"] = wdHumg100_df[\"Hum>100%\"]*1\n",
    "wdHumg100_df.head()\n",
    "print(wdHumg100_df.shape)"
   ]
  },
  {
   "cell_type": "code",
   "execution_count": 13,
   "metadata": {},
   "outputs": [
    {
     "data": {
      "text/html": [
       "<div>\n",
       "<style scoped>\n",
       "    .dataframe tbody tr th:only-of-type {\n",
       "        vertical-align: middle;\n",
       "    }\n",
       "\n",
       "    .dataframe tbody tr th {\n",
       "        vertical-align: top;\n",
       "    }\n",
       "\n",
       "    .dataframe thead th {\n",
       "        text-align: right;\n",
       "    }\n",
       "</style>\n",
       "<table border=\"1\" class=\"dataframe\">\n",
       "  <thead>\n",
       "    <tr style=\"text-align: right;\">\n",
       "      <th></th>\n",
       "      <th>City</th>\n",
       "      <th>Country</th>\n",
       "      <th>Latitude</th>\n",
       "      <th>Longitude</th>\n",
       "      <th>Max_temp_F</th>\n",
       "      <th>Humidity_Percent</th>\n",
       "      <th>Cloudy_Percent</th>\n",
       "      <th>Wind_Speed_mph</th>\n",
       "      <th>Date</th>\n",
       "      <th>Hum&gt;100%</th>\n",
       "    </tr>\n",
       "  </thead>\n",
       "  <tbody>\n",
       "  </tbody>\n",
       "</table>\n",
       "</div>"
      ],
      "text/plain": [
       "Empty DataFrame\n",
       "Columns: [City, Country, Latitude, Longitude, Max_temp_F, Humidity_Percent, Cloudy_Percent, Wind_Speed_mph, Date, Hum>100%]\n",
       "Index: []"
      ]
     },
     "execution_count": 13,
     "metadata": {},
     "output_type": "execute_result"
    }
   ],
   "source": [
    "#  Get the cities that have humidity over 100%.\n",
    "wdHumg100_df.loc[wdHumg100_df[\"Hum>100%\"] == 1]"
   ]
  },
  {
   "cell_type": "code",
   "execution_count": 14,
   "metadata": {},
   "outputs": [
    {
     "name": "stdout",
     "output_type": "stream",
     "text": [
      "(542, 10)\n"
     ]
    }
   ],
   "source": [
    "# Make a new DataFrame equal to the city data to drop all humidity outliers by index.\n",
    "# Passing \"inplace=False\" will make a copy of the city_data DataFrame, which we call \"clean_city_data\".\n",
    "\n",
    "# If shape of clean city df is same as wdHumg100 that means there were no citites with humidity greater than 100%\n",
    "# and therefore no rows were needed to be dropped\n",
    "\n",
    "clean_city_data = wdHumg100_df.drop(wdHumg100_df[wdHumg100_df['Hum>100%'] == 1].index, inplace = False)\n",
    "print(clean_city_data.shape)"
   ]
  },
  {
   "cell_type": "code",
   "execution_count": null,
   "metadata": {},
   "outputs": [],
   "source": [
    "\n"
   ]
  },
  {
   "cell_type": "markdown",
   "metadata": {},
   "source": [
    "## Plotting the Data\n",
    "* Use proper labeling of the plots using plot titles (including date of analysis) and axes labels.\n",
    "* Save the plotted figures as .pngs."
   ]
  },
  {
   "cell_type": "markdown",
   "metadata": {},
   "source": [
    "## Latitude vs. Temperature Plot"
   ]
  },
  {
   "cell_type": "code",
   "execution_count": 15,
   "metadata": {
    "scrolled": true
   },
   "outputs": [
    {
     "data": {
      "image/png": "[encoded data removed]",
      "text/plain": [
       "<Figure size 432x288 with 1 Axes>"
      ]
     },
     "metadata": {
      "needs_background": "light"
     },
     "output_type": "display_data"
    }
   ],
   "source": [
    "clean_city_data.plot.scatter(x = \"Latitude\", y = \"Max_temp_F\", c=\"DarkBlue\")\n",
    "day = wd_df.iloc[0]['Date']\n",
    "\n",
    "plt.xlabel(\"Latitude\")\n",
    "plt.ylabel(\"Max Temperature (F)\")\n",
    "plt.title (f\"City Latitude vs Max Temperature ({day})\")\n",
    "plt.grid()\n",
    "plt.savefig(\"../Images/scatterLvT.png\")"
   ]
  },
  {
   "cell_type": "code",
   "execution_count": 16,
   "metadata": {},
   "outputs": [],
   "source": [
    "# The City Latitude vs Maximum Temperature scatter plot is analyzing the various maximum temperatures against latitude.\n",
    "# The data presented indicates an interesting relationship for the northern and southern hemispheres.\n",
    "# To the left of zero (southern hemisphere), the temperatures a fairly closely distributed from 40 F to 80 F,\n",
    "# increasing as approaching the equator.\n",
    "# To the right of zero (northern hemisphere), the temperatures have a wide range, decreasing as approaching the pole.\n",
    "# These behaviors are most likely presented because of the current season,\n",
    "# late fall, northern hemisphere, and late spring, southern hemisphere. (tilt of the earth and less sunlight)"
   ]
  },
  {
   "cell_type": "markdown",
   "metadata": {},
   "source": [
    "## Latitude vs. Humidity Plot"
   ]
  },
  {
   "cell_type": "code",
   "execution_count": 17,
   "metadata": {},
   "outputs": [
    {
     "data": {
      "image/png": "[encoded data removed]",
      "text/plain": [
       "<Figure size 432x288 with 1 Axes>"
      ]
     },
     "metadata": {
      "needs_background": "light"
     },
     "output_type": "display_data"
    }
   ],
   "source": [
    "clean_city_data.plot.scatter(x = \"Latitude\", y = \"Humidity_Percent\", c=\"DarkBlue\")\n",
    "day = wd_df.iloc[0]['Date']\n",
    "\n",
    "plt.xlabel(\"Latitude\")\n",
    "plt.ylabel(\"Humidity (%)\")\n",
    "plt.title (f\"City Latitude vs Humidity ({day})\")\n",
    "plt.grid()\n",
    "plt.savefig(\"../Images/scatterLvH.png\")"
   ]
  },
  {
   "cell_type": "code",
   "execution_count": 18,
   "metadata": {},
   "outputs": [],
   "source": [
    "# The City Latitude vs Humidity scatter plot is analyzing the various humidity percentage values against latitude.\n",
    "# The data presented indicates a wide distribution of data points, most likely related to current weather conditions\n",
    "# such as a front or recent rain.\n",
    "# To the left of zero (southern hemisphere), the humidity is fairly scattered between latitidue values\n",
    "# with the majority of the points above 60% humidity.\n",
    "# To the right of zero (northern hemisphere), the humidity is fairly scatteres between latitiude values,\n",
    "# with the majority of the points above 60% humidity.  "
   ]
  },
  {
   "cell_type": "markdown",
   "metadata": {},
   "source": [
    "## Latitude vs. Cloudiness Plot"
   ]
  },
  {
   "cell_type": "code",
   "execution_count": 19,
   "metadata": {},
   "outputs": [
    {
     "data": {
      "image/png": "[encoded data removed]",
      "text/plain": [
       "<Figure size 432x288 with 1 Axes>"
      ]
     },
     "metadata": {
      "needs_background": "light"
     },
     "output_type": "display_data"
    }
   ],
   "source": [
    "clean_city_data.plot.scatter(x = \"Latitude\", y = \"Cloudy_Percent\", c=\"DarkBlue\")\n",
    "day = wd_df.iloc[0]['Date']\n",
    "\n",
    "plt.xlabel(\"Latitude\")\n",
    "plt.ylabel(\"Cloudiness (%)\")\n",
    "plt.title (f\"City Latitude vs Cloudiness ({day})\")\n",
    "plt.grid()\n",
    "plt.savefig(\"../Images/scatterLvC.png\")"
   ]
  },
  {
   "cell_type": "code",
   "execution_count": 20,
   "metadata": {},
   "outputs": [],
   "source": [
    "# The City Latitude vs Cloudiness scatter plot is analyzing the various cloudy percentage values against latitude.\n",
    "# The data in this plot is based on the weather conditions present at the snapshot time the data \n",
    "# is collocted.  This is not a very valuable dataset."
   ]
  },
  {
   "cell_type": "markdown",
   "metadata": {},
   "source": [
    "## Latitude vs. Wind Speed Plot"
   ]
  },
  {
   "cell_type": "code",
   "execution_count": 21,
   "metadata": {},
   "outputs": [
    {
     "data": {
      "image/png": "[encoded data removed]",
      "text/plain": [
       "<Figure size 432x288 with 1 Axes>"
      ]
     },
     "metadata": {
      "needs_background": "light"
     },
     "output_type": "display_data"
    }
   ],
   "source": [
    "clean_city_data.plot.scatter(x = \"Latitude\", y = \"Wind_Speed_mph\", c=\"DarkBlue\")\n",
    "day = wd_df.iloc[0]['Date']\n",
    "\n",
    "plt.xlabel(\"Latitude\")\n",
    "plt.ylabel(\"Wind Speed (mph)\")\n",
    "plt.title (f\"City Latitude vs Wind Speed ({day})\")\n",
    "plt.grid()\n",
    "plt.savefig(\"../Images/scatterLvWS.png\")"
   ]
  },
  {
   "cell_type": "code",
   "execution_count": 22,
   "metadata": {},
   "outputs": [],
   "source": [
    "# The City Latitude vs Wind Speed scatter plot is analyzing the various wind speed values against latitude.\n",
    "# The data in this plot is based on the weather conditions present at the snapshot time the data \n",
    "# is collocted.  This is not a very valuable dataset."
   ]
  },
  {
   "cell_type": "markdown",
   "metadata": {},
   "source": [
    "## Linear Regression"
   ]
  },
  {
   "cell_type": "code",
   "execution_count": 23,
   "metadata": {},
   "outputs": [
    {
     "name": "stdout",
     "output_type": "stream",
     "text": [
      "(144, 10)\n",
      "(398, 10)\n",
      "(542, 10)\n"
     ]
    }
   ],
   "source": [
    "nhclean_city_data = clean_city_data.loc[clean_city_data['Latitude'] >= 0]\n",
    "shclean_city_data = clean_city_data.loc[clean_city_data['Latitude'] < 0]\n",
    "# shclean_city_data\n",
    "\n",
    "# verifying shape to make sure sum partials equals original\n",
    "print(shclean_city_data.shape)\n",
    "print(nhclean_city_data.shape)\n",
    "print(clean_city_data.shape)"
   ]
  },
  {
   "cell_type": "markdown",
   "metadata": {},
   "source": [
    "####  Northern Hemisphere - Max Temp vs. Latitude Linear Regression"
   ]
  },
  {
   "cell_type": "code",
   "execution_count": 24,
   "metadata": {},
   "outputs": [
    {
     "data": {
      "image/png": "[encoded data removed]",
      "text/plain": [
       "<Figure size 432x288 with 1 Axes>"
      ]
     },
     "metadata": {
      "needs_background": "light"
     },
     "output_type": "display_data"
    }
   ],
   "source": [
    "x_values = nhclean_city_data['Latitude']\n",
    "y_values = nhclean_city_data['Max_temp_F']\n",
    "day = wd_df.iloc[0]['Date']\n",
    "\n",
    "(slope, intercept, rvalue, pvalue, stderr) = linregress(x_values, y_values)\n",
    "regress_values = x_values * slope + intercept\n",
    "line_eq = \"y = \" + str(round(slope,2)) + \"x + \" + str(round(intercept,2))\n",
    "\n",
    "correlation = st.pearsonr(x_values,y_values)\n",
    "\n",
    "plt.scatter(x_values,y_values)\n",
    "plt.plot(x_values,regress_values,\"r-\")\n",
    "\n",
    "plt.xlabel(\"North Hemisphere Latitude\")\n",
    "plt.ylabel(\"Max Temperature (F)\")\n",
    "plt.title (f\"NH City Latitude vs Max Temperature ({day})\")\n",
    "\n",
    "plt.annotate(line_eq,(5, -20),fontsize=15,color=\"red\")\n",
    "plt.annotate(f\"Correlation coefficient is {round(correlation[0],2)}\",(5,-32),fontsize=10,color=\"red\")\n",
    "\n",
    "plt.grid()\n",
    "\n",
    "plt.savefig(\"../Images/scatternhLvTlr.png\")\n",
    "plt.show()"
   ]
  },
  {
   "cell_type": "code",
   "execution_count": 25,
   "metadata": {},
   "outputs": [],
   "source": [
    "# The NH Latitude vs Maximum Temperature scatter plot is analyzing the various maximum temperatures against latitude\n",
    "# in the northern hemisphere.  \n",
    "# As noted above, the temperatures have a wide range, decreasing as approaching the pole.\n",
    "# The linear regression modeling, along with the Pearson's coefficient, indicates\n",
    "# a decent negative relationship (slope down right, -0.83) between the data\n",
    "# as latitude approaches the pole.   "
   ]
  },
  {
   "cell_type": "markdown",
   "metadata": {},
   "source": [
    "####  Southern Hemisphere - Max Temp vs. Latitude Linear Regression"
   ]
  },
  {
   "cell_type": "code",
   "execution_count": 26,
   "metadata": {},
   "outputs": [
    {
     "data": {
      "image/png": "[encoded data removed]",
      "text/plain": [
       "<Figure size 432x288 with 1 Axes>"
      ]
     },
     "metadata": {
      "needs_background": "light"
     },
     "output_type": "display_data"
    }
   ],
   "source": [
    "x_values = shclean_city_data['Latitude']\n",
    "y_values = shclean_city_data['Max_temp_F']\n",
    "day = wd_df.iloc[0]['Date']\n",
    "\n",
    "(slope, intercept, rvalue, pvalue, stderr) = linregress(x_values, y_values)\n",
    "regress_values = x_values * slope + intercept\n",
    "line_eq = \"y = \" + str(round(slope,2)) + \"x + \" + str(round(intercept,2))\n",
    "\n",
    "correlation = st.pearsonr(x_values,y_values)\n",
    "\n",
    "plt.scatter(x_values,y_values)\n",
    "plt.plot(x_values,regress_values,\"r-\")\n",
    "plt.gca().invert_xaxis()\n",
    "\n",
    "plt.xlabel(\"South Hemisphere Latitude\")\n",
    "plt.ylabel(\"Max Temperature (F)\")\n",
    "plt.title (f\"SH City Latitude vs Max Temperature ({day})\")\n",
    "\n",
    "plt.annotate(line_eq,(-8,49),fontsize=15,color=\"red\")\n",
    "plt.annotate(f\"Correlation coefficient is {round(correlation[0],2)}\",(-8,44),fontsize=10,color=\"red\")\n",
    "\n",
    "plt.grid()\n",
    "\n",
    "plt.savefig(\"../Images/scattershLvTlr.png\")\n",
    "plt.show()"
   ]
  },
  {
   "cell_type": "code",
   "execution_count": 27,
   "metadata": {},
   "outputs": [],
   "source": [
    "# The SH Latitude vs Maximum Temperature scatter plot is analyzing the various maximum temperatures against latitude\n",
    "# in the southern hemisphere.  The x-axis has been reversed to match the orientation of the overall latitude plot above.   \n",
    "# As noted above, the temperatures have a wide range, decreasing as moving away from the equator.\n",
    "# The linear regression modeling, along with the Pearson's coefficient, indicates\n",
    "# a poor positive relationship (slope down right, 0.46) between the data\n",
    "# as latitude approaches the pole.  \n",
    "# The reason the coefficient is positve and the line is sloping down is because the x-axis has been reveresed."
   ]
  },
  {
   "cell_type": "markdown",
   "metadata": {},
   "source": [
    "####  Northern Hemisphere - Humidity (%) vs. Latitude Linear Regression"
   ]
  },
  {
   "cell_type": "code",
   "execution_count": 30,
   "metadata": {},
   "outputs": [
    {
     "data": {
      "image/png": "[encoded data removed]",
      "text/plain": [
       "<Figure size 432x288 with 1 Axes>"
      ]
     },
     "metadata": {
      "needs_background": "light"
     },
     "output_type": "display_data"
    }
   ],
   "source": [
    "x_values = nhclean_city_data['Latitude']\n",
    "y_values = nhclean_city_data['Humidity_Percent']\n",
    "day = wd_df.iloc[0]['Date']\n",
    "\n",
    "(slope, intercept, rvalue, pvalue, stderr) = linregress(x_values, y_values)\n",
    "regress_values = x_values * slope + intercept\n",
    "line_eq = \"y = \" + str(round(slope,2)) + \"x + \" + str(round(intercept,2))\n",
    "\n",
    "correlation = st.pearsonr(x_values,y_values)\n",
    "\n",
    "plt.scatter(x_values,y_values)\n",
    "plt.plot(x_values,regress_values,\"r-\")\n",
    "\n",
    "plt.xlabel(\"Northern Hemisphere Latitude\")\n",
    "plt.ylabel(\"Humidity (%)\")\n",
    "plt.title (f\"NH City Latitude vs Humidity ({day})\")\n",
    "\n",
    "plt.annotate(line_eq,(43,25),fontsize=15,color=\"red\")\n",
    "plt.annotate(f\"Correlation coefficient is {round(correlation[0],2)}\",(43,17),fontsize=10,color=\"red\")\n",
    "\n",
    "plt.grid()\n",
    "\n",
    "plt.savefig(\"../Images/scatternhLvHlr.png\")\n",
    "plt.show()"
   ]
  },
  {
   "cell_type": "code",
   "execution_count": 31,
   "metadata": {},
   "outputs": [],
   "source": [
    "# The NH Latitude vs Humidity scatter plot is analyzing the various humidity percentages against latitude\n",
    "# in the northern hemisphere.  \n",
    "# As noted above, the humidity values have a wide range, increasing as approaching the pole.\n",
    "# The linear regression modeling, along with the Pearson's coefficient, indicates\n",
    "# a poor positive relationship (slope up right, 0.34) between the data\n",
    "# as latitude approaches the pole. "
   ]
  },
  {
   "cell_type": "markdown",
   "metadata": {},
   "source": [
    "####  Southern Hemisphere - Humidity (%) vs. Latitude Linear Regression"
   ]
  },
  {
   "cell_type": "code",
   "execution_count": 33,
   "metadata": {},
   "outputs": [
    {
     "data": {
      "image/png": "[encoded data removed]",
      "text/plain": [
       "<Figure size 432x288 with 1 Axes>"
      ]
     },
     "metadata": {
      "needs_background": "light"
     },
     "output_type": "display_data"
    }
   ],
   "source": [
    "x_values = shclean_city_data['Latitude']\n",
    "y_values = shclean_city_data['Humidity_Percent']\n",
    "day = wd_df.iloc[0]['Date']\n",
    "\n",
    "(slope, intercept, rvalue, pvalue, stderr) = linregress(x_values, y_values)\n",
    "regress_values = x_values * slope + intercept\n",
    "line_eq = \"y = \" + str(round(slope,2)) + \"x + \" + str(round(intercept,2))\n",
    "\n",
    "correlation = st.pearsonr(x_values,y_values)\n",
    "\n",
    "plt.scatter(x_values,y_values)\n",
    "plt.plot(x_values,regress_values,\"r-\")\n",
    "plt.gca().invert_xaxis()\n",
    "\n",
    "plt.xlabel(\"Southern Hemisphere Latitude\")\n",
    "plt.ylabel(\"Humidity (%)\")\n",
    "plt.title (f\"SH City Latitude vs Humidity ({day})\")\n",
    "\n",
    "plt.annotate(line_eq,(-8, 21),fontsize=15,color=\"red\")\n",
    "plt.annotate(f\"Correlation coefficient is {round(correlation[0],2)}\",(-8,14),fontsize=10,color=\"red\")\n",
    "\n",
    "plt.grid()\n",
    "\n",
    "plt.savefig(\"../Images/scattershLvHlr.png\")\n",
    "plt.show()"
   ]
  },
  {
   "cell_type": "code",
   "execution_count": 34,
   "metadata": {},
   "outputs": [],
   "source": [
    "# The SH Latitude vs Humidity scatter plot is analyzing the various humidity percentages against latitude\n",
    "# in the southern hemisphere.  The x-axis has been reversed to match the orientation of the overall latitude plot above.   \n",
    "# As noted above, the humidity percentages have a wide range, decreasing as moving away from the equator.\n",
    "# The linear regression modeling, along with the Pearson's coefficient, indicates\n",
    "# a poor positive relationship (slope down right, 0.36) between the data\n",
    "# as latitude approaches the pole.  \n",
    "# The reason the coefficient is positve and the line is sloping down is because the x-axis has been reveresed."
   ]
  },
  {
   "cell_type": "markdown",
   "metadata": {},
   "source": [
    "####  Northern Hemisphere - Cloudiness (%) vs. Latitude Linear Regression"
   ]
  },
  {
   "cell_type": "code",
   "execution_count": 35,
   "metadata": {},
   "outputs": [
    {
     "data": {
      "image/png": "[encoded data removed]",
      "text/plain": [
       "<Figure size 432x288 with 1 Axes>"
      ]
     },
     "metadata": {
      "needs_background": "light"
     },
     "output_type": "display_data"
    }
   ],
   "source": [
    "x_values = nhclean_city_data['Latitude']\n",
    "y_values = nhclean_city_data['Cloudy_Percent']\n",
    "day = wd_df.iloc[0]['Date']\n",
    "\n",
    "(slope, intercept, rvalue, pvalue, stderr) = linregress(x_values, y_values)\n",
    "regress_values = x_values * slope + intercept\n",
    "line_eq = \"y = \" + str(round(slope,2)) + \"x + \" + str(round(intercept,2))\n",
    "\n",
    "correlation = st.pearsonr(x_values,y_values)\n",
    "\n",
    "plt.scatter(x_values,y_values)\n",
    "plt.plot(x_values,regress_values,\"r-\")\n",
    "\n",
    "plt.xlabel(\"Northern Hemisphere Latitude\")\n",
    "plt.ylabel(\"Cloudiness (%)\")\n",
    "plt.title (f\"NH City Latitude vs Cloudiness ({day})\")\n",
    "\n",
    "plt.annotate(line_eq,(24,28),fontsize=15,color=\"red\")\n",
    "plt.annotate(f\"Correlation coefficient is {round(correlation[0],2)}\",(24,22),fontsize=10,color=\"red\")\n",
    "\n",
    "plt.grid()\n",
    "\n",
    "plt.savefig(\"../Images/scatternhLvClr.png\")\n",
    "plt.show()"
   ]
  },
  {
   "cell_type": "code",
   "execution_count": 36,
   "metadata": {},
   "outputs": [],
   "source": [
    "# The NH Latitude vs Cloudiness scatter plot is analyzing the various cloudiness percentages against latitude\n",
    "# in the northern hemisphere.  \n",
    "# The linear regression modeling, along with the Pearson's coefficient, indicates\n",
    "# a poor positive relationship (slope up right, 0.27) between the data\n",
    "# as latitude approaches the pole. \n",
    "# The data in this plot is based on the weather conditions present at the snapshot time the data \n",
    "# is collocted.  This is not a very valuable dataset."
   ]
  },
  {
   "cell_type": "markdown",
   "metadata": {},
   "source": [
    "####  Southern Hemisphere - Cloudiness (%) vs. Latitude Linear Regression"
   ]
  },
  {
   "cell_type": "code",
   "execution_count": 37,
   "metadata": {},
   "outputs": [
    {
     "data": {
      "image/png": "[encoded data removed]",
      "text/plain": [
       "<Figure size 432x288 with 1 Axes>"
      ]
     },
     "metadata": {
      "needs_background": "light"
     },
     "output_type": "display_data"
    }
   ],
   "source": [
    "x_values = shclean_city_data['Latitude']\n",
    "y_values = shclean_city_data['Cloudy_Percent']\n",
    "day = wd_df.iloc[0]['Date']\n",
    "\n",
    "(slope, intercept, rvalue, pvalue, stderr) = linregress(x_values, y_values)\n",
    "regress_values = x_values * slope + intercept\n",
    "line_eq = \"y = \" + str(round(slope,2)) + \"x + \" + str(round(intercept,2))\n",
    "\n",
    "correlation = st.pearsonr(x_values,y_values)\n",
    "\n",
    "plt.scatter(x_values,y_values)\n",
    "plt.plot(x_values,regress_values,\"r-\")\n",
    "plt.gca().invert_xaxis()\n",
    "\n",
    "plt.xlabel(\"Southern Hemisphere Latitude\")\n",
    "plt.ylabel(\"Cloudiness (%)\")\n",
    "plt.title (f\"SH City Latitude vs Cloudiness ({day})\")\n",
    "\n",
    "plt.annotate(line_eq,(-28, 60),fontsize=15,color=\"red\")\n",
    "plt.annotate(f\"Correlation coefficient is {round(correlation[0],2)}\",(-28,52),fontsize=10,color=\"red\")\n",
    "\n",
    "plt.grid()\n",
    "\n",
    "plt.savefig(\"../Images/scattershLvClr.png\")\n",
    "plt.show()"
   ]
  },
  {
   "cell_type": "code",
   "execution_count": 38,
   "metadata": {},
   "outputs": [],
   "source": [
    "# The SH Latitude vs Cloudiness scatter plot is analyzing the various cloudiness percentages against latitude\n",
    "# in the southern hemisphere.  \n",
    "# The linear regression modeling, along with the Pearson's coefficient, indicates\n",
    "# a poor positive relationship (slope down right, 0.06) between the data\n",
    "# as latitude approaches the pole.  \n",
    "# The data in this plot is based on the weather conditions present at the snapshot time the data \n",
    "# is collocted.  This is not a very valuable dataset.\n",
    "# The reason the coefficient is positve and the line is sloping down is because the x-axis has been reveresed."
   ]
  },
  {
   "cell_type": "markdown",
   "metadata": {},
   "source": [
    "####  Northern Hemisphere - Wind Speed (mph) vs. Latitude Linear Regression"
   ]
  },
  {
   "cell_type": "code",
   "execution_count": 40,
   "metadata": {},
   "outputs": [
    {
     "data": {
      "image/png": "[encoded data removed]",
      "text/plain": [
       "<Figure size 432x288 with 1 Axes>"
      ]
     },
     "metadata": {
      "needs_background": "light"
     },
     "output_type": "display_data"
    }
   ],
   "source": [
    "x_values = nhclean_city_data['Latitude']\n",
    "y_values = nhclean_city_data['Wind_Speed_mph']\n",
    "day = wd_df.iloc[0]['Date']\n",
    "\n",
    "(slope, intercept, rvalue, pvalue, stderr) = linregress(x_values, y_values)\n",
    "regress_values = x_values * slope + intercept\n",
    "line_eq = \"y = \" + str(round(slope,2)) + \"x + \" + str(round(intercept,2))\n",
    "\n",
    "correlation = st.pearsonr(x_values,y_values)\n",
    "\n",
    "plt.scatter(x_values,y_values)\n",
    "plt.plot(x_values,regress_values,\"r-\")\n",
    "\n",
    "\n",
    "plt.xlabel(\"Northern Hemisphere Latitude\")\n",
    "plt.ylabel(\"Wind Speed (mph)\")\n",
    "plt.title (f\"NH City Latitude vs Wind Speed ({day})\")\n",
    "\n",
    "plt.annotate(line_eq,(3, 30),fontsize=15,color=\"red\")\n",
    "plt.annotate(f\"Correlation coefficient is {round(correlation[0],2)}\",(3,27),fontsize=10,color=\"red\")\n",
    "\n",
    "plt.grid()\n",
    "\n",
    "plt.savefig(\"../Images/scatternhLvWSlr.png\")\n",
    "plt.show()"
   ]
  },
  {
   "cell_type": "code",
   "execution_count": 41,
   "metadata": {},
   "outputs": [],
   "source": [
    "# The NH Latitude vs Wind Speed scatter plot is analyzing the various wind speeds against latitude\n",
    "# in the northern hemisphere.  \n",
    "# The linear regression modeling, along with the Pearson's coefficient, indicates\n",
    "# a poor positive relationship (slope up right, 0.17) between the data\n",
    "# as latitude approaches the pole. \n",
    "# The data in this plot is based on the weather conditions present at the snapshot time the data \n",
    "# is collocted.  This is not a very valuable dataset."
   ]
  },
  {
   "cell_type": "markdown",
   "metadata": {},
   "source": [
    "####  Southern Hemisphere - Wind Speed (mph) vs. Latitude Linear Regression"
   ]
  },
  {
   "cell_type": "code",
   "execution_count": 42,
   "metadata": {},
   "outputs": [
    {
     "data": {
      "image/png": "[encoded data removed]",
      "text/plain": [
       "<Figure size 432x288 with 1 Axes>"
      ]
     },
     "metadata": {
      "needs_background": "light"
     },
     "output_type": "display_data"
    }
   ],
   "source": [
    "x_values = shclean_city_data['Latitude']\n",
    "y_values = shclean_city_data['Wind_Speed_mph']\n",
    "day = wd_df.iloc[0]['Date']\n",
    "\n",
    "(slope, intercept, rvalue, pvalue, stderr) = linregress(x_values, y_values)\n",
    "regress_values = x_values * slope + intercept\n",
    "line_eq = \"y = \" + str(round(slope,2)) + \"x + \" + str(round(intercept,2))\n",
    "\n",
    "correlation = st.pearsonr(x_values,y_values)\n",
    "\n",
    "plt.scatter(x_values,y_values)\n",
    "plt.plot(x_values,regress_values,\"r-\")\n",
    "plt.gca().invert_xaxis()\n",
    "\n",
    "plt.xlabel(\"Southern Hemisphere Latitude\")\n",
    "plt.ylabel(\"Wind Speed (mph)\")\n",
    "plt.title (f\"City Latitude vs Wind Speed ({day})\")\n",
    "\n",
    "plt.annotate(line_eq,(-12,27),fontsize=15,color=\"red\")\n",
    "plt.annotate(f\"Correlation coefficient is {round(correlation[0],2)}\",(-12,24),fontsize=10,color=\"red\")\n",
    "\n",
    "plt.grid()\n",
    "\n",
    "plt.savefig(\"../Images/scattershLvWSlr.png\")\n",
    "plt.show()"
   ]
  },
  {
   "cell_type": "code",
   "execution_count": 43,
   "metadata": {},
   "outputs": [],
   "source": [
    "# The SH Latitude vs Wind Speed scatter plot is analyzing the various wind speeds against latitude\n",
    "# in the southern hemisphere.    \n",
    "# The linear regression modeling, along with the Pearson's coefficient, indicates\n",
    "# a poor positive relationship (slope up right, -0.34) between the data\n",
    "# as latitude approaches the pole.  \n",
    "# The data in this plot is based on the weather conditions present at the snapshot time the data \n",
    "# is collocted.  This is not a very valuable dataset.\n",
    "# The reason the coefficient is negative and line is sloping up is because the x-axis has been reveresed."
   ]
  },
  {
   "cell_type": "code",
   "execution_count": null,
   "metadata": {},
   "outputs": [],
   "source": []
  },
  {
   "cell_type": "code",
   "execution_count": null,
   "metadata": {},
   "outputs": [],
   "source": []
  },
  {
   "cell_type": "code",
   "execution_count": null,
   "metadata": {},
   "outputs": [],
   "source": []
  }
 ],
 "metadata": {
  "anaconda-cloud": {},
  "kernel_info": {
   "name": "python3"
  },
  "kernelspec": {
   "display_name": "Python 3",
   "language": "python",
   "name": "python3"
  },
  "language_info": {
   "codemirror_mode": {
    "name": "ipython",
    "version": 3
   },
   "file_extension": ".py",
   "mimetype": "text/x-python",
   "name": "python",
   "nbconvert_exporter": "python",
   "pygments_lexer": "ipython3",
   "version": "3.8.3"
  },
  "latex_envs": {
   "LaTeX_envs_menu_present": true,
   "autoclose": false,
   "autocomplete": true,
   "bibliofile": "biblio.bib",
   "cite_by": "apalike",
   "current_citInitial": 1,
   "eqLabelWithNumbers": true,
   "eqNumInitial": 1,
   "hotkeys": {
    "equation": "Ctrl-E",
    "itemize": "Ctrl-I"
   },
   "labels_anchors": false,
   "latex_user_defs": false,
   "report_style_numbering": false,
   "user_envs_cfg": false
  },
  "nteract": {
   "version": "0.12.3"
  }
 },
 "nbformat": 4,
 "nbformat_minor": 2
}
